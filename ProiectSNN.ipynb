{
  "nbformat": 4,
  "nbformat_minor": 0,
  "metadata": {
    "colab": {
      "provenance": [],
      "gpuType": "T4"
    },
    "kernelspec": {
      "name": "python3",
      "display_name": "Python 3"
    },
    "language_info": {
      "name": "python"
    },
    "accelerator": "GPU"
  },
  "cells": [
    {
      "cell_type": "code",
      "execution_count": 2,
      "metadata": {
        "colab": {
          "base_uri": "https://localhost:8080/"
        },
        "id": "FhPycGUAttwJ",
        "outputId": "71e49e42-d931-486d-bf74-913478f270c2"
      },
      "outputs": [
        {
          "output_type": "stream",
          "name": "stdout",
          "text": [
            "Collecting snntorch\n",
            "  Downloading snntorch-0.9.4-py2.py3-none-any.whl.metadata (15 kB)\n",
            "Downloading snntorch-0.9.4-py2.py3-none-any.whl (125 kB)\n",
            "\u001b[?25l   \u001b[90m━━━━━━━━━━━━━━━━━━━━━━━━━━━━━━━━━━━━━━━━\u001b[0m \u001b[32m0.0/125.6 kB\u001b[0m \u001b[31m?\u001b[0m eta \u001b[36m-:--:--\u001b[0m\r\u001b[2K   \u001b[90m━━━━━━━━━━━━━━━━━━━━━━━━━━━━━━━━━━━━━━━━\u001b[0m \u001b[32m125.6/125.6 kB\u001b[0m \u001b[31m7.1 MB/s\u001b[0m eta \u001b[36m0:00:00\u001b[0m\n",
            "\u001b[?25hInstalling collected packages: snntorch\n",
            "Successfully installed snntorch-0.9.4\n"
          ]
        }
      ],
      "source": [
        "!pip install snntorch\n"
      ]
    },
    {
      "cell_type": "code",
      "source": [
        "import torch\n",
        "import torch.nn as nn\n",
        "import torch.nn.functional as F\n",
        "import torchvision\n",
        "import torchvision.transforms as transforms\n",
        "from torch.utils.data import DataLoader\n",
        "\n",
        "import snntorch as snn\n",
        "from snntorch import surrogate\n",
        "from snntorch import functional as SF\n",
        "from snntorch import spikeplot as splt\n",
        "from snntorch import utils\n",
        "\n",
        "import matplotlib.pyplot as plt\n",
        "import numpy as np\n",
        "from sklearn.metrics import confusion_matrix\n",
        "import seaborn as sns\n"
      ],
      "metadata": {
        "id": "W9gSElPEuFqA"
      },
      "execution_count": 3,
      "outputs": []
    },
    {
      "cell_type": "code",
      "source": [
        "def hard_reset(net):\n",
        "    for m in net.modules():\n",
        "        if hasattr(m, \"mem\"):\n",
        "            m.mem = m.mem.detach() * 0\n",
        "        if hasattr(m, \"spk\"):\n",
        "            m.spk = m.spk.detach() * 0\n"
      ],
      "metadata": {
        "id": "w5IUiIwxwgcd"
      },
      "execution_count": 4,
      "outputs": []
    },
    {
      "cell_type": "code",
      "source": [
        "device = torch.device(\"cuda\" if torch.cuda.is_available() else \"cpu\")\n",
        "print(\"Vom rula pe:\", device)\n",
        "\n",
        "batch_size   = 128\n",
        "num_steps    = 100\n",
        "num_epochs   = 5\n",
        "learning_rate = 1e-3\n"
      ],
      "metadata": {
        "colab": {
          "base_uri": "https://localhost:8080/"
        },
        "id": "QEBfk2oUuddT",
        "outputId": "266e23cf-b956-4c23-a1af-43b6c4ee85c2"
      },
      "execution_count": 5,
      "outputs": [
        {
          "output_type": "stream",
          "name": "stdout",
          "text": [
            "Vom rula pe: cpu\n"
          ]
        }
      ]
    },
    {
      "cell_type": "code",
      "source": [
        "transform = transforms.Compose([\n",
        "    transforms.ToTensor(),\n",
        "    transforms.Normalize((0.,), (1.,))\n",
        "])\n",
        "\n",
        "\n",
        "train_dataset = torchvision.datasets.MNIST(\n",
        "    root=\"./data\", train=True, download=True, transform=transform)\n",
        "\n",
        "test_dataset = torchvision.datasets.MNIST(\n",
        "    root=\"./data\", train=False, download=True, transform=transform)\n",
        "\n",
        "train_loader = DataLoader(train_dataset, batch_size=batch_size,\n",
        "                          shuffle=True,  drop_last=True)\n",
        "\n",
        "test_loader  = DataLoader(test_dataset,  batch_size=batch_size,\n",
        "                          shuffle=False, drop_last=True)\n",
        "\n",
        "print(f\"Dimensiune train: {len(train_dataset)} imagini\")\n",
        "print(f\"Dimensiune test : {len(test_dataset)} imagini\")\n"
      ],
      "metadata": {
        "colab": {
          "base_uri": "https://localhost:8080/"
        },
        "id": "CWUcVw5Qukwv",
        "outputId": "74c20cd9-22b4-4ce7-f9fe-547525da2132"
      },
      "execution_count": 6,
      "outputs": [
        {
          "output_type": "stream",
          "name": "stderr",
          "text": [
            "100%|██████████| 9.91M/9.91M [00:00<00:00, 12.9MB/s]\n",
            "100%|██████████| 28.9k/28.9k [00:00<00:00, 359kB/s]\n",
            "100%|██████████| 1.65M/1.65M [00:00<00:00, 3.21MB/s]\n",
            "100%|██████████| 4.54k/4.54k [00:00<00:00, 8.62MB/s]\n"
          ]
        },
        {
          "output_type": "stream",
          "name": "stdout",
          "text": [
            "Dimensiune train: 60000 imagini\n",
            "Dimensiune test : 10000 imagini\n"
          ]
        }
      ]
    },
    {
      "cell_type": "code",
      "source": [
        "data, targets = next(iter(train_loader))\n",
        "\n",
        "data    = data.to(device)\n",
        "targets = targets.to(device)\n",
        "\n",
        "spike_data = snn.spikegen.rate(data, num_steps=num_steps)\n",
        "\n",
        "print(\"Forma trenului de spike‑uri:\", spike_data.shape)\n"
      ],
      "metadata": {
        "colab": {
          "base_uri": "https://localhost:8080/"
        },
        "id": "CkeAO85FuvcQ",
        "outputId": "f253dda7-7b05-46f8-96af-d21763861ea8"
      },
      "execution_count": 7,
      "outputs": [
        {
          "output_type": "stream",
          "name": "stdout",
          "text": [
            "Forma trenului de spike‑uri: torch.Size([100, 128, 1, 28, 28])\n"
          ]
        }
      ]
    },
    {
      "cell_type": "code",
      "source": [
        "class ConvSNN(nn.Module):\n",
        "    def __init__(self):\n",
        "        super().__init__()\n",
        "        self.conv1 = nn.Conv2d(1, 12, kernel_size=5, padding=2)\n",
        "        self.pool  = nn.MaxPool2d(2)\n",
        "\n",
        "\n",
        "        self.lif1  = snn.Leaky(\n",
        "            beta=0.95,\n",
        "            threshold=0.5,\n",
        "            spike_grad=surrogate.fast_sigmoid())\n",
        "\n",
        "        self.fc    = nn.Linear(12*14*14, 10, bias=False)\n",
        "        self.lif2  = snn.Leaky(\n",
        "            beta=0.95,\n",
        "            threshold=0.5,\n",
        "            spike_grad=surrogate.fast_sigmoid(),\n",
        "            output=True)\n",
        "\n",
        "    def forward(self, x_seq):\n",
        "        spk_rec = []\n",
        "        for t in range(x_seq.size(0)):\n",
        "            x   = F.relu(self.conv1(x_seq[t]))\n",
        "            x   = self.pool(x)\n",
        "            _, s1 = self.lif1(x)\n",
        "            s1f   = s1.flatten(1)\n",
        "            _, s2 = self.lif2(self.fc(s1f))\n",
        "            spk_rec.append(s2)\n",
        "        return torch.stack(spk_rec)"
      ],
      "metadata": {
        "id": "Jw-g-LLEyV2b"
      },
      "execution_count": 10,
      "outputs": []
    },
    {
      "cell_type": "code",
      "source": [
        "net = ConvSNN().to(device)\n",
        "loss_fn  = nn.CrossEntropyLoss()\n",
        "optim    = torch.optim.Adam(net.parameters(), lr=learning_rate)\n"
      ],
      "metadata": {
        "id": "pwPRPiSEylOx"
      },
      "execution_count": 11,
      "outputs": []
    },
    {
      "cell_type": "code",
      "source": [
        "def train_one_epoch(ep):\n",
        "    net.train(); hard_reset(net); run_loss = 0\n",
        "    for data, tgt in train_loader:\n",
        "        data, tgt = data.to(device), tgt.to(device)\n",
        "        spikes    = snn.spikegen.rate(data, num_steps=num_steps)\n",
        "\n",
        "        optim.zero_grad()\n",
        "        out  = net(spikes)\n",
        "        loss = loss_fn(out.sum(0), tgt)\n",
        "        loss.backward(); optim.step()\n",
        "\n",
        "        run_loss += loss.item(); hard_reset(net)\n",
        "\n",
        "    avg_loss = run_loss / len(train_loader)\n",
        "    all_losses.append(avg_loss)\n",
        "    print(f\"Epoca {ep+1} | loss mediu: {run_loss/len(train_loader):.4f}\")"
      ],
      "metadata": {
        "id": "2tDN81NGvUXQ"
      },
      "execution_count": 12,
      "outputs": []
    },
    {
      "cell_type": "code",
      "source": [
        "def evaluate():\n",
        "    net.eval()\n",
        "    hard_reset(net)\n",
        "\n",
        "    correct = total = 0\n",
        "    with torch.no_grad():\n",
        "        for data, targets in test_loader:\n",
        "            data, targets = data.to(device), targets.to(device)\n",
        "            spike_data    = snn.spikegen.rate(data, num_steps=num_steps)\n",
        "\n",
        "            spk_out = net(spike_data)\n",
        "            out_sum = spk_out.sum(dim=0)\n",
        "\n",
        "            preds   = out_sum.argmax(dim=1)\n",
        "            correct += (preds == targets).sum().item()\n",
        "            total   += targets.size(0)\n",
        "            hard_reset(net)\n",
        "    acc = 100.0 * correct / total\n",
        "    all_accuracies.append(acc)\n",
        "    print(f\"Acuratete test: {acc:.2f}%\")\n",
        "    return acc\n"
      ],
      "metadata": {
        "id": "peMTVHDqvYxR"
      },
      "execution_count": 13,
      "outputs": []
    },
    {
      "cell_type": "code",
      "source": [
        "all_losses = []\n",
        "all_accuracies = []"
      ],
      "metadata": {
        "id": "TZq4eaIQLQ1K"
      },
      "execution_count": 14,
      "outputs": []
    },
    {
      "cell_type": "code",
      "source": [
        "for epoch in range(num_epochs):\n",
        "    train_one_epoch(epoch)\n",
        "    evaluate()\n"
      ],
      "metadata": {
        "colab": {
          "base_uri": "https://localhost:8080/",
          "height": 356
        },
        "id": "K6E2Hq0Mvb3Z",
        "outputId": "6d1c3852-e6e7-4ac4-b905-6fa75267f5e1"
      },
      "execution_count": 15,
      "outputs": [
        {
          "output_type": "stream",
          "name": "stdout",
          "text": [
            "Epoca 1 | loss mediu: 41.1751\n",
            "Acurateţe test: 91.03%\n"
          ]
        },
        {
          "output_type": "error",
          "ename": "KeyboardInterrupt",
          "evalue": "",
          "traceback": [
            "\u001b[0;31m---------------------------------------------------------------------------\u001b[0m",
            "\u001b[0;31mKeyboardInterrupt\u001b[0m                         Traceback (most recent call last)",
            "\u001b[0;32m<ipython-input-15-822d9ffc9a84>\u001b[0m in \u001b[0;36m<cell line: 0>\u001b[0;34m()\u001b[0m\n\u001b[1;32m      1\u001b[0m \u001b[0;32mfor\u001b[0m \u001b[0mepoch\u001b[0m \u001b[0;32min\u001b[0m \u001b[0mrange\u001b[0m\u001b[0;34m(\u001b[0m\u001b[0mnum_epochs\u001b[0m\u001b[0;34m)\u001b[0m\u001b[0;34m:\u001b[0m\u001b[0;34m\u001b[0m\u001b[0;34m\u001b[0m\u001b[0m\n\u001b[0;32m----> 2\u001b[0;31m     \u001b[0mtrain_one_epoch\u001b[0m\u001b[0;34m(\u001b[0m\u001b[0mepoch\u001b[0m\u001b[0;34m)\u001b[0m\u001b[0;34m\u001b[0m\u001b[0;34m\u001b[0m\u001b[0m\n\u001b[0m\u001b[1;32m      3\u001b[0m     \u001b[0mevaluate\u001b[0m\u001b[0;34m(\u001b[0m\u001b[0;34m)\u001b[0m\u001b[0;34m\u001b[0m\u001b[0;34m\u001b[0m\u001b[0m\n",
            "\u001b[0;32m<ipython-input-12-580e0ec35ac3>\u001b[0m in \u001b[0;36mtrain_one_epoch\u001b[0;34m(ep)\u001b[0m\n\u001b[1;32m      8\u001b[0m         \u001b[0mout\u001b[0m  \u001b[0;34m=\u001b[0m \u001b[0mnet\u001b[0m\u001b[0;34m(\u001b[0m\u001b[0mspikes\u001b[0m\u001b[0;34m)\u001b[0m          \u001b[0;31m# [T,B,10]\u001b[0m\u001b[0;34m\u001b[0m\u001b[0;34m\u001b[0m\u001b[0m\n\u001b[1;32m      9\u001b[0m         \u001b[0mloss\u001b[0m \u001b[0;34m=\u001b[0m \u001b[0mloss_fn\u001b[0m\u001b[0;34m(\u001b[0m\u001b[0mout\u001b[0m\u001b[0;34m.\u001b[0m\u001b[0msum\u001b[0m\u001b[0;34m(\u001b[0m\u001b[0;36m0\u001b[0m\u001b[0;34m)\u001b[0m\u001b[0;34m,\u001b[0m \u001b[0mtgt\u001b[0m\u001b[0;34m)\u001b[0m\u001b[0;34m\u001b[0m\u001b[0;34m\u001b[0m\u001b[0m\n\u001b[0;32m---> 10\u001b[0;31m         \u001b[0mloss\u001b[0m\u001b[0;34m.\u001b[0m\u001b[0mbackward\u001b[0m\u001b[0;34m(\u001b[0m\u001b[0;34m)\u001b[0m\u001b[0;34m;\u001b[0m \u001b[0moptim\u001b[0m\u001b[0;34m.\u001b[0m\u001b[0mstep\u001b[0m\u001b[0;34m(\u001b[0m\u001b[0;34m)\u001b[0m\u001b[0;34m\u001b[0m\u001b[0;34m\u001b[0m\u001b[0m\n\u001b[0m\u001b[1;32m     11\u001b[0m \u001b[0;34m\u001b[0m\u001b[0m\n\u001b[1;32m     12\u001b[0m         \u001b[0mrun_loss\u001b[0m \u001b[0;34m+=\u001b[0m \u001b[0mloss\u001b[0m\u001b[0;34m.\u001b[0m\u001b[0mitem\u001b[0m\u001b[0;34m(\u001b[0m\u001b[0;34m)\u001b[0m\u001b[0;34m;\u001b[0m \u001b[0mhard_reset\u001b[0m\u001b[0;34m(\u001b[0m\u001b[0mnet\u001b[0m\u001b[0;34m)\u001b[0m\u001b[0;34m\u001b[0m\u001b[0;34m\u001b[0m\u001b[0m\n",
            "\u001b[0;32m/usr/local/lib/python3.11/dist-packages/torch/_tensor.py\u001b[0m in \u001b[0;36mbackward\u001b[0;34m(self, gradient, retain_graph, create_graph, inputs)\u001b[0m\n\u001b[1;32m    624\u001b[0m                 \u001b[0minputs\u001b[0m\u001b[0;34m=\u001b[0m\u001b[0minputs\u001b[0m\u001b[0;34m,\u001b[0m\u001b[0;34m\u001b[0m\u001b[0;34m\u001b[0m\u001b[0m\n\u001b[1;32m    625\u001b[0m             )\n\u001b[0;32m--> 626\u001b[0;31m         torch.autograd.backward(\n\u001b[0m\u001b[1;32m    627\u001b[0m             \u001b[0mself\u001b[0m\u001b[0;34m,\u001b[0m \u001b[0mgradient\u001b[0m\u001b[0;34m,\u001b[0m \u001b[0mretain_graph\u001b[0m\u001b[0;34m,\u001b[0m \u001b[0mcreate_graph\u001b[0m\u001b[0;34m,\u001b[0m \u001b[0minputs\u001b[0m\u001b[0;34m=\u001b[0m\u001b[0minputs\u001b[0m\u001b[0;34m\u001b[0m\u001b[0;34m\u001b[0m\u001b[0m\n\u001b[1;32m    628\u001b[0m         )\n",
            "\u001b[0;32m/usr/local/lib/python3.11/dist-packages/torch/autograd/__init__.py\u001b[0m in \u001b[0;36mbackward\u001b[0;34m(tensors, grad_tensors, retain_graph, create_graph, grad_variables, inputs)\u001b[0m\n\u001b[1;32m    345\u001b[0m     \u001b[0;31m# some Python versions print out the first line of a multi-line function\u001b[0m\u001b[0;34m\u001b[0m\u001b[0;34m\u001b[0m\u001b[0m\n\u001b[1;32m    346\u001b[0m     \u001b[0;31m# calls in the traceback and some print out the last line\u001b[0m\u001b[0;34m\u001b[0m\u001b[0;34m\u001b[0m\u001b[0m\n\u001b[0;32m--> 347\u001b[0;31m     _engine_run_backward(\n\u001b[0m\u001b[1;32m    348\u001b[0m         \u001b[0mtensors\u001b[0m\u001b[0;34m,\u001b[0m\u001b[0;34m\u001b[0m\u001b[0;34m\u001b[0m\u001b[0m\n\u001b[1;32m    349\u001b[0m         \u001b[0mgrad_tensors_\u001b[0m\u001b[0;34m,\u001b[0m\u001b[0;34m\u001b[0m\u001b[0;34m\u001b[0m\u001b[0m\n",
            "\u001b[0;32m/usr/local/lib/python3.11/dist-packages/torch/autograd/graph.py\u001b[0m in \u001b[0;36m_engine_run_backward\u001b[0;34m(t_outputs, *args, **kwargs)\u001b[0m\n\u001b[1;32m    821\u001b[0m         \u001b[0munregister_hooks\u001b[0m \u001b[0;34m=\u001b[0m \u001b[0m_register_logging_hooks_on_whole_graph\u001b[0m\u001b[0;34m(\u001b[0m\u001b[0mt_outputs\u001b[0m\u001b[0;34m)\u001b[0m\u001b[0;34m\u001b[0m\u001b[0;34m\u001b[0m\u001b[0m\n\u001b[1;32m    822\u001b[0m     \u001b[0;32mtry\u001b[0m\u001b[0;34m:\u001b[0m\u001b[0;34m\u001b[0m\u001b[0;34m\u001b[0m\u001b[0m\n\u001b[0;32m--> 823\u001b[0;31m         return Variable._execution_engine.run_backward(  # Calls into the C++ engine to run the backward pass\n\u001b[0m\u001b[1;32m    824\u001b[0m             \u001b[0mt_outputs\u001b[0m\u001b[0;34m,\u001b[0m \u001b[0;34m*\u001b[0m\u001b[0margs\u001b[0m\u001b[0;34m,\u001b[0m \u001b[0;34m**\u001b[0m\u001b[0mkwargs\u001b[0m\u001b[0;34m\u001b[0m\u001b[0;34m\u001b[0m\u001b[0m\n\u001b[1;32m    825\u001b[0m         )  # Calls into the C++ engine to run the backward pass\n",
            "\u001b[0;31mKeyboardInterrupt\u001b[0m: "
          ]
        }
      ]
    },
    {
      "cell_type": "code",
      "source": [
        "torch.save(net.state_dict(), \"snn_mnist_model.pt\")\n",
        "print(\"Model salvat ca: snn_mnist_model.pt\")"
      ],
      "metadata": {
        "id": "saYPXv4UKejY"
      },
      "execution_count": null,
      "outputs": []
    },
    {
      "cell_type": "code",
      "source": [
        "net.load_state_dict(torch.load(\"snn_mnist_model.pt\"))\n",
        "net.to(device)\n",
        "net.eval()\n"
      ],
      "metadata": {
        "id": "O0cvf7koZnPP"
      },
      "execution_count": null,
      "outputs": []
    },
    {
      "cell_type": "code",
      "source": [
        "# Evolutia loss si acuratetei in timp\n",
        "\n",
        "plt.figure(figsize=(6, 3))\n",
        "plt.plot(all_losses, label=\"Loss\", marker='o')\n",
        "plt.plot(all_accuracies, label=\"Accuracy (%)\", marker='x')\n",
        "plt.title(\"Evolutia loss si acuratetei in timp\")\n",
        "plt.xlabel(\"Epoca\")\n",
        "plt.ylabel(\"Valoare\")\n",
        "plt.legend()\n",
        "plt.grid(True)\n",
        "plt.savefig(\"evolutie_loss_accuracy.png\", dpi=300)\n",
        "plt.show()\n",
        "\n"
      ],
      "metadata": {
        "id": "yVRbjYbJKg2F"
      },
      "execution_count": null,
      "outputs": []
    },
    {
      "cell_type": "code",
      "source": [
        "# Predictii corecte\n",
        "\n",
        "images, labels = next(iter(test_loader))\n",
        "\n",
        "for idx in range(10):\n",
        "    img = images[idx].unsqueeze(0).to(device)\n",
        "    label = labels[idx].item()\n",
        "\n",
        "    with torch.no_grad():\n",
        "        spikes = snn.spikegen.rate(img, num_steps=num_steps)\n",
        "        out    = net(spikes)\n",
        "        summed = out.sum(dim=0)\n",
        "        predicted = summed.argmax(dim=1).item()\n",
        "\n",
        "    plt.imshow(img.cpu().squeeze(), cmap='gray')\n",
        "    plt.title(f\"Real: {label} | Prezis: {predicted}\", fontsize=14)\n",
        "    plt.axis(False)\n",
        "    plt.show()\n"
      ],
      "metadata": {
        "id": "l9TN802JZrF3"
      },
      "execution_count": null,
      "outputs": []
    },
    {
      "cell_type": "code",
      "source": [
        "# Matricea de confuzie\n",
        "\n",
        "all_preds = []\n",
        "all_labels = []\n",
        "\n",
        "net.eval()\n",
        "hard_reset(net)\n",
        "\n",
        "with torch.no_grad():\n",
        "    for data, targets in test_loader:\n",
        "        data, targets = data.to(device), targets.to(device)\n",
        "        spike_data = snn.spikegen.rate(data, num_steps=num_steps)\n",
        "\n",
        "        spk_out = net(spike_data)\n",
        "        out_sum = spk_out.sum(dim=0)\n",
        "        preds = out_sum.argmax(dim=1)\n",
        "\n",
        "        all_preds.extend(preds.cpu().numpy())\n",
        "        all_labels.extend(targets.cpu().numpy())\n",
        "\n",
        "        hard_reset(net)\n",
        "\n",
        "\n",
        "cm = confusion_matrix(all_labels, all_preds)\n",
        "\n",
        "\n",
        "plt.figure(figsize=(8, 6))\n",
        "sns.heatmap(cm, annot=True, fmt=\"d\", cmap=\"Blues\", cbar=False,\n",
        "            xticklabels=range(10), yticklabels=range(10))\n",
        "plt.xlabel(\"Etichete prezise\")\n",
        "plt.ylabel(\"Etichete reale\")\n",
        "plt.title(\"Matricea de confuzie - clasificarea cifrelor MNIST\")\n",
        "plt.tight_layout()\n",
        "plt.savefig(\"matrice_confuzie.png\", dpi=300)\n",
        "plt.show()\n"
      ],
      "metadata": {
        "id": "SY026_nCo2aU"
      },
      "execution_count": null,
      "outputs": []
    },
    {
      "cell_type": "code",
      "source": [
        "# Predictii gresite\n",
        "\n",
        "wrong_preds = []\n",
        "\n",
        "net.eval()\n",
        "with torch.no_grad():\n",
        "    for data, targets in test_loader:\n",
        "        data, targets = data.to(device), targets.to(device)\n",
        "        spikes = snn.spikegen.rate(data, num_steps=num_steps)\n",
        "        outputs = net(spikes)\n",
        "        summed = outputs.sum(dim=0)\n",
        "        preds = summed.argmax(dim=1)\n",
        "\n",
        "        for i in range(len(preds)):\n",
        "            if preds[i] != targets[i]:\n",
        "                wrong_preds.append((data[i].cpu(), targets[i].item(), preds[i].item()))\n",
        "\n",
        "for i in range(min(5, len(wrong_preds))):\n",
        "    img, label, predicted = wrong_preds[i]\n",
        "    plt.imshow(img.squeeze(), cmap='gray')\n",
        "    plt.title(f\"Eticheta reala: {label} | Prezis: {predicted}\")\n",
        "    plt.axis('off')\n",
        "    plt.show()\n"
      ],
      "metadata": {
        "id": "fD-29mkfqor6"
      },
      "execution_count": null,
      "outputs": []
    }
  ]
}